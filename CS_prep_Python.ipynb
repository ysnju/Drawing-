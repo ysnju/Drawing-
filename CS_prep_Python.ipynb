{
  "nbformat": 4,
  "nbformat_minor": 0,
  "metadata": {
    "colab": {
      "name": "CS prep Python",
      "provenance": [],
      "authorship_tag": "ABX9TyPvPukFymoEl/WIbRUtU3re",
      "include_colab_link": true
    },
    "kernelspec": {
      "name": "python3",
      "display_name": "Python 3"
    },
    "language_info": {
      "name": "python"
    }
  },
  "cells": [
    {
      "cell_type": "markdown",
      "metadata": {
        "id": "view-in-github",
        "colab_type": "text"
      },
      "source": [
        "<a href=\"https://colab.research.google.com/github/ysnju/Unit-1/blob/main/CS_prep_Python.ipynb\" target=\"_parent\"><img src=\"https://colab.research.google.com/assets/colab-badge.svg\" alt=\"Open In Colab\"/></a>"
      ]
    },
    {
      "cell_type": "markdown",
      "metadata": {
        "id": "lwuZfKZJvOIH"
      },
      "source": [
        "#Programming exercises\n",
        "1.write a program that calculates the addition of all integer numbers from 0 to 2021\n",
        "\n",
        "We will use the  arithemitic wsequence \n",
        "$$ sum = 1/2(1+n)$$"
      ]
    },
    {
      "cell_type": "code",
      "metadata": {
        "colab": {
          "base_uri": "https://localhost:8080/"
        },
        "id": "7XMS6flYvaZi",
        "outputId": "4885a2b4-2d82-4dba-e451-1379ac779c68"
      },
      "source": [
        " start_num = 0\n",
        "end_num = 2021\n",
        "\n",
        "n = end_num -start_num\n",
        "\n",
        "#calculate the addition\n",
        "result = n*(n+1 )/2\n",
        "\n",
        "print(\"The additiion of integers from\",start_num, \"to ,end_num\", \"is:\",result)"
      ],
      "execution_count": 2,
      "outputs": [
        {
          "output_type": "stream",
          "text": [
            "The additiion of integers from 0 to ,end_num is: 2043231.0\n"
          ],
          "name": "stdout"
        }
      ]
    },
    {
      "cell_type": "code",
      "metadata": {
        "colab": {
          "base_uri": "https://localhost:8080/"
        },
        "id": "0e3Ghu2mxkzo",
        "outputId": "47964313-5ff8-4a0b-e000-51ccba52deb9"
      },
      "source": [
        "#printing using f-strings\n",
        "print(f\"The addition of integers from{start_num} to {end_num} is: {result}\")"
      ],
      "execution_count": 3,
      "outputs": [
        {
          "output_type": "stream",
          "text": [
            "The addition of integers from0 to 2021 is: 2043231.0\n"
          ],
          "name": "stdout"
        }
      ]
    },
    {
      "cell_type": "markdown",
      "metadata": {
        "id": "kIVpT6xuyZdB"
      },
      "source": [
        "Write a program that calculates the value of y when the user enters a integer x"
      ]
    },
    {
      "cell_type": "code",
      "metadata": {
        "colab": {
          "base_uri": "https://localhost:8080/"
        },
        "id": "prhgNimdyhKW",
        "outputId": "1e4d6109-7f58-433c-d3af-9d202525b8d6"
      },
      "source": [
        "x = int(input(\"enter the number for x\"))\n",
        "y = (2*(x+3)-3)\n",
        "print(y)"
      ],
      "execution_count": 2,
      "outputs": [
        {
          "output_type": "stream",
          "text": [
            "enter the number for x3\n",
            "9\n"
          ],
          "name": "stdout"
        }
      ]
    },
    {
      "cell_type": "markdown",
      "metadata": {
        "id": "7Brs0fzH0TgP"
      },
      "source": [
        "Write a program that asks the user for his name and grade and outputs the user's email address at UWCISAK\n"
      ]
    },
    {
      "cell_type": "code",
      "metadata": {
        "colab": {
          "base_uri": "https://localhost:8080/"
        },
        "id": "IoVEIHwi0cNp",
        "outputId": "5d791cba-cf14-44cc-935f-e126e3bda68e"
      },
      "source": [
        "#creating uwc emails\n",
        "first_name = input(\"Enter your first name\")\n",
        "last_name = input(\"Enter your last name\")\n",
        "grade_no = int(input(\"Enter your grade (10, 11 or 12\"))\n",
        "year = 2034 - grade_no\n",
        "print(f\"Your email is .{year}.{first_name}.{last_name}@uwcisak.jp\")\n"
      ],
      "execution_count": 2,
      "outputs": [
        {
          "output_type": "stream",
          "text": [
            "Enter your first nameanju\n",
            "Enter your last nameyasu\n",
            "Enter your grade (10, 11 or 1214\n",
            "Your email is .2020.anju.yasu@uwcisak.jp\n"
          ],
          "name": "stdout"
        }
      ]
    },
    {
      "cell_type": "markdown",
      "metadata": {
        "id": "mtzcfocDy-hP"
      },
      "source": [
        "Write a program that converst a temperature from Fahenheit to Celsius f-32*0.5556 is Celsius\n"
      ]
    },
    {
      "cell_type": "code",
      "metadata": {
        "colab": {
          "base_uri": "https://localhost:8080/"
        },
        "id": "Qy6TPeCxzFa6",
        "outputId": "b081416b-5421-4632-aaa6-09778f0815e6"
      },
      "source": [
        "print(\"tempurture now in faranheit\")\n",
        "f = int(input())\n",
        "c = (f-32)*0.5556\n",
        "print(f\"tempurture now in celsius is {c}\")\n"
      ],
      "execution_count": 1,
      "outputs": [
        {
          "output_type": "stream",
          "text": [
            "tempurture now in faranheit\n",
            "30\n",
            "tempurture now in celsius is -1.1112\n"
          ],
          "name": "stdout"
        }
      ]
    }
  ]
}