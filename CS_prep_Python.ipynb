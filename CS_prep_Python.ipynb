{
  "nbformat": 4,
  "nbformat_minor": 0,
  "metadata": {
    "colab": {
      "name": "CS prep Python",
      "provenance": [],
      "toc_visible": true,
      "authorship_tag": "ABX9TyNb+oI8QrYctZ0TmEQDE7wb",
      "include_colab_link": true
    },
    "kernelspec": {
      "name": "python3",
      "display_name": "Python 3"
    },
    "language_info": {
      "name": "python"
    }
  },
  "cells": [
    {
      "cell_type": "markdown",
      "metadata": {
        "id": "view-in-github",
        "colab_type": "text"
      },
      "source": [
        "<a href=\"https://colab.research.google.com/github/ysnju/Unit-1/blob/main/CS_prep_Python.ipynb\" target=\"_parent\"><img src=\"https://colab.research.google.com/assets/colab-badge.svg\" alt=\"Open In Colab\"/></a>"
      ]
    },
    {
      "cell_type": "markdown",
      "metadata": {
        "id": "lwuZfKZJvOIH"
      },
      "source": [
        "#Programming exercises\n",
        "1.write a program that calculates the addition of all integer numbers from 0 to 2021\n",
        "\n",
        "We will use the  arithemitic wsequence \n",
        "$$ sum = 1/2(1+n)$$"
      ]
    },
    {
      "cell_type": "code",
      "metadata": {
        "colab": {
          "base_uri": "https://localhost:8080/"
        },
        "id": "7XMS6flYvaZi",
        "outputId": "4885a2b4-2d82-4dba-e451-1379ac779c68"
      },
      "source": [
        " start_num = 0\n",
        "end_num = 2021\n",
        "\n",
        "n = end_num -start_num\n",
        "\n",
        "#calculate the addition\n",
        "result = n*(n+1 )/2\n",
        "\n",
        "print(\"The additiion of integers from\",start_num, \"to ,end_num\", \"is:\",result)"
      ],
      "execution_count": null,
      "outputs": [
        {
          "output_type": "stream",
          "text": [
            "The additiion of integers from 0 to ,end_num is: 2043231.0\n"
          ],
          "name": "stdout"
        }
      ]
    },
    {
      "cell_type": "code",
      "metadata": {
        "colab": {
          "base_uri": "https://localhost:8080/"
        },
        "id": "0e3Ghu2mxkzo",
        "outputId": "47964313-5ff8-4a0b-e000-51ccba52deb9"
      },
      "source": [
        "#printing using f-strings\n",
        "print(f\"The addition of integers from{start_num} to {end_num} is: {result}\")"
      ],
      "execution_count": null,
      "outputs": [
        {
          "output_type": "stream",
          "text": [
            "The addition of integers from0 to 2021 is: 2043231.0\n"
          ],
          "name": "stdout"
        }
      ]
    },
    {
      "cell_type": "markdown",
      "metadata": {
        "id": "kIVpT6xuyZdB"
      },
      "source": [
        "Write a program that calculates the value of y when the user enters a integer x"
      ]
    },
    {
      "cell_type": "code",
      "metadata": {
        "colab": {
          "base_uri": "https://localhost:8080/"
        },
        "id": "prhgNimdyhKW",
        "outputId": "1e4d6109-7f58-433c-d3af-9d202525b8d6"
      },
      "source": [
        "x = int(input(\"enter the number for x\"))\n",
        "y = (2*(x+3)-3)\n",
        "print(y)"
      ],
      "execution_count": null,
      "outputs": [
        {
          "output_type": "stream",
          "text": [
            "enter the number for x3\n",
            "9\n"
          ],
          "name": "stdout"
        }
      ]
    },
    {
      "cell_type": "markdown",
      "metadata": {
        "id": "7Brs0fzH0TgP"
      },
      "source": [
        "Write a program that asks the user for his name and grade and outputs the user's email address at UWCISAK\n"
      ]
    },
    {
      "cell_type": "code",
      "metadata": {
        "colab": {
          "base_uri": "https://localhost:8080/"
        },
        "id": "IoVEIHwi0cNp",
        "outputId": "5d791cba-cf14-44cc-935f-e126e3bda68e"
      },
      "source": [
        "#creating uwc emails\n",
        "first_name = input(\"Enter your first name\")\n",
        "last_name = input(\"Enter your last name\")\n",
        "grade_no = int(input(\"Enter your grade (10, 11 or 12\"))\n",
        "year = 2034 - grade_no\n",
        "print(f\"Your email is .{year}.{first_name}.{last_name}@uwcisak.jp\")\n"
      ],
      "execution_count": null,
      "outputs": [
        {
          "output_type": "stream",
          "text": [
            "Enter your first nameanju\n",
            "Enter your last nameyasu\n",
            "Enter your grade (10, 11 or 1214\n",
            "Your email is .2020.anju.yasu@uwcisak.jp\n"
          ],
          "name": "stdout"
        }
      ]
    },
    {
      "cell_type": "markdown",
      "metadata": {
        "id": "mtzcfocDy-hP"
      },
      "source": [
        "Write a program that converst a temperature from Fahenheit to Celsius f-32*0.5556 is Celsius\n"
      ]
    },
    {
      "cell_type": "code",
      "metadata": {
        "colab": {
          "base_uri": "https://localhost:8080/"
        },
        "id": "Qy6TPeCxzFa6",
        "outputId": "b081416b-5421-4632-aaa6-09778f0815e6"
      },
      "source": [
        "print(\"tempurture now in faranheit\")\n",
        "f = int(input())\n",
        "c = (f-32)*0.5556\n",
        "print(f\"tempurture now in celsius is {c}\")\n"
      ],
      "execution_count": null,
      "outputs": [
        {
          "output_type": "stream",
          "text": [
            "tempurture now in faranheit\n",
            "30\n",
            "tempurture now in celsius is -1.1112\n"
          ],
          "name": "stdout"
        }
      ]
    },
    {
      "cell_type": "markdown",
      "metadata": {
        "id": "fOOJsDlU8rgW"
      },
      "source": [
        "Write a program to convert from miles to kilometers。\n",
        "$$miles = 1.609*km\n"
      ]
    },
    {
      "cell_type": "code",
      "metadata": {
        "id": "7rURY5qm8qX9",
        "outputId": "978f0110-c44d-471f-e69b-ddaaf3c0c559",
        "colab": {
          "base_uri": "https://localhost:8080/"
        }
      },
      "source": [
        "#Step 1 ask the user for miles\n",
        "#store the value \n",
        "#3calculate km as miles\n",
        "#4 print out the result to the user\n",
        "mile_number = int(input(\"Type mile number\"))\n",
        "km_number = mile_number/1.609\n",
        "print(km_number,\"km\")"
      ],
      "execution_count": 3,
      "outputs": [
        {
          "output_type": "stream",
          "text": [
            "Type mile number1\n",
            "0.6215040397762586 km\n"
          ],
          "name": "stdout"
        }
      ]
    },
    {
      "cell_type": "code",
      "metadata": {
        "id": "M7NwpKjZ-ZGV",
        "outputId": "98355cd5-5988-4146-a12c-3041a69b887e",
        "colab": {
          "base_uri": "https://localhost:8080/",
          "height": 134
        }
      },
      "source": [
        "#Dr.Ruben answer\n",
        "miles = int(input(\"Please enter the miles (use only integer values)\"))\n",
        "km = (1.609)*miles\n",
        "print(f*{miles}\"miles are equal to \"{km}\"km\")"
      ],
      "execution_count": 1,
      "outputs": [
        {
          "output_type": "error",
          "ename": "SyntaxError",
          "evalue": "ignored",
          "traceback": [
            "\u001b[0;36m  File \u001b[0;32m\"<ipython-input-1-34d8ec3a780d>\"\u001b[0;36m, line \u001b[0;32m4\u001b[0m\n\u001b[0;31m    print(f*{miles}\"miles are equal to \"{km}\"km\")\u001b[0m\n\u001b[0m                                       ^\u001b[0m\n\u001b[0;31mSyntaxError\u001b[0m\u001b[0;31m:\u001b[0m invalid syntax\n"
          ]
        }
      ]
    },
    {
      "cell_type": "markdown",
      "metadata": {
        "id": "syvqPCEL-_Fj"
      },
      "source": [
        "⑦ Write a program to reverse a number entered by the user。\n",
        "\n",
        "Ex: Input 123 output 321"
      ]
    },
    {
      "cell_type": "code",
      "metadata": {
        "id": "yOaGR7F2--yl",
        "outputId": "88b55e0c-e880-4014-a564-004be157b429",
        "colab": {
          "base_uri": "https://localhost:8080/"
        }
      },
      "source": [
        "noun = \"animal\" #This is a string because of its quotation marks\n",
        "print(noun[0]) #means that I want to get the first letter aka [Indexing] we start counting at 0\n",
        "\n",
        "#print the last letter in the string\n",
        "print(noun[-1]) #minus 1 means last, -2 means second from last -3 means third form last\n",
        "\n",
        "#get a part or substring take to the element2 to 4 in the steps of one\n",
        "#[start:end:step]\n",
        "print(noun[0:-1:2])\n",
        "\n",
        "#reverse the word using indexing\n",
        "print (\"reversing\", noun[-1:1:-1])\n",
        "\n",
        "age = int(50)\n",
        "str_age = str(age)\n",
        "#print(str_age[-1], str_age[0]\n"
      ],
      "execution_count": 1,
      "outputs": [
        {
          "output_type": "stream",
          "text": [
            "a\n",
            "l\n",
            "aia\n",
            "reversing lami\n"
          ],
          "name": "stdout"
        }
      ]
    },
    {
      "cell_type": "markdown",
      "metadata": {
        "id": "88Wbc_ErFP2v"
      },
      "source": [
        "⑥ Write a program that solves the Quadratic Equation for valid inputs a, b, c。　\n"
      ]
    },
    {
      "cell_type": "code",
      "metadata": {
        "id": "okU8mrmVFPsV",
        "outputId": "a5b0aa8a-52ef-4eba-f816-2fc2f4ddb2e0",
        "colab": {
          "base_uri": "https://localhost:8080/"
        }
      },
      "source": [
        "\n",
        "a = int(input(\"enter value for a\"))\n",
        "b = int(input(\"enter value for b\"))\n",
        "c = int(input(\"enter value for c\"))\n",
        "d = ((b**2-4*a*c))**(1/2)\n",
        "x1 = -(b+d)/2*a\n",
        "x2 = -(b-d)/2*a\n",
        "print(\"The first solution is\",x1,\"The second solution is\",x2)"
      ],
      "execution_count": 1,
      "outputs": [
        {
          "output_type": "stream",
          "text": [
            "enter value for a1\n",
            "enter value for b9\n",
            "enter value for c-1\n",
            "The first solution is -9.109772228646444 The second solution is 0.10977222864644354\n"
          ],
          "name": "stdout"
        }
      ]
    },
    {
      "cell_type": "markdown",
      "metadata": {
        "id": "T7udHlhpC3xI"
      },
      "source": [
        "⑦ Write a program to reverse a number entered by the user。\n"
      ]
    },
    {
      "cell_type": "code",
      "metadata": {
        "id": "GgAo4A5aC3kU",
        "outputId": "bff760b5-b5f7-441d-c556-c775f7d3639b",
        "colab": {
          "base_uri": "https://localhost:8080/"
        }
      },
      "source": [
        "n = input(\"Enter a number\")\n",
        "print(n[-2::-2])"
      ],
      "execution_count": 2,
      "outputs": [
        {
          "output_type": "stream",
          "text": [
            "Enter a number123456789\n",
            "8642\n"
          ],
          "name": "stdout"
        }
      ]
    },
    {
      "cell_type": "markdown",
      "metadata": {
        "id": "HcKGUMAbEBCK"
      },
      "source": [
        "⑧ Write a program that asks the user for their name, age, nationality and produces a greeting message such as “Welcome John Doe you are 30 years old and a national of Colombia”\n"
      ]
    },
    {
      "cell_type": "code",
      "metadata": {
        "id": "xKllw4U2EAtk",
        "outputId": "ccd8f616-8a80-4000-b393-fed43bd2a731",
        "colab": {
          "base_uri": "https://localhost:8080/"
        }
      },
      "source": [
        "name = input(\"Enter your name\")\n",
        "age = int(input(\"Enter your age\"))\n",
        "nationality = input(\"Enter your nationality\")\n",
        "print(\"Welcome\",name,\"you are\",age,\"years old and a national of\",nationality)"
      ],
      "execution_count": 1,
      "outputs": [
        {
          "output_type": "stream",
          "text": [
            "Enter your nameAnju Yasu\n",
            "Enter your age16\n",
            "Enter your nationalityJapanese\n",
            "Welcome Anju Yasu you are 16 years old and a national of Japanese\n"
          ],
          "name": "stdout"
        }
      ]
    },
    {
      "cell_type": "markdown",
      "metadata": {
        "id": "ZR_5dmPdEEwn"
      },
      "source": [
        "⑨ Create one more program that converts between different units.\n",
        "\n"
      ]
    },
    {
      "cell_type": "code",
      "metadata": {
        "id": "KlI4qXr1EEhE",
        "outputId": "ac189d58-8d5c-4a35-eaee-40a25cd8978f",
        "colab": {
          "base_uri": "https://localhost:8080/"
        }
      },
      "source": [
        "m2 = int(input(\"Enter the size of the space in square meters\"))\n",
        "print(\"your space will fit\",m2*1/1.6562,\"tatamis\")"
      ],
      "execution_count": 1,
      "outputs": [
        {
          "output_type": "stream",
          "text": [
            "Enter the size of the space in square meters15\n",
            "your space will fit 9.056877188745322 tatamis\n"
          ],
          "name": "stdout"
        }
      ]
    },
    {
      "cell_type": "markdown",
      "metadata": {
        "id": "0jT1xDCk-Y4_"
      },
      "source": [
        ""
      ]
    }
  ]
}