{
  "nbformat": 4,
  "nbformat_minor": 0,
  "metadata": {
    "colab": {
      "name": "unit3 if statmeents.",
      "provenance": [],
      "authorship_tag": "ABX9TyOQCWKQwrEZWpv7ER4jWeEM",
      "include_colab_link": true
    },
    "kernelspec": {
      "name": "python3",
      "display_name": "Python 3"
    },
    "language_info": {
      "name": "python"
    }
  },
  "cells": [
    {
      "cell_type": "markdown",
      "metadata": {
        "id": "view-in-github",
        "colab_type": "text"
      },
      "source": [
        "<a href=\"https://colab.research.google.com/github/ysnju/Unit-1/blob/main/unit3_if_statmeents_.ipynb\" target=\"_parent\"><img src=\"https://colab.research.google.com/assets/colab-badge.svg\" alt=\"Open In Colab\"/></a>"
      ]
    },
    {
      "cell_type": "markdown",
      "metadata": {
        "id": "awXxXAv5hVvF"
      },
      "source": [
        "solve the quadratic equation with values entered by the user\n",
        "$$x_{1,2} = \n"
      ]
    },
    {
      "cell_type": "code",
      "metadata": {
        "colab": {
          "base_uri": "https://localhost:8080/"
        },
        "id": "1rykAjevhS4o",
        "outputId": "ac9163d5-1468-4865-823b-28ca3fd2b64f"
      },
      "source": [
        "#solve the quadratic equation :This is a headder comment, which tells what the code is about\n",
        "a = int(input(\"enter value of a:\"))\n",
        "b = int(input(\"enter value of b\"))\n",
        "c = int(input(\"enter vallue of c\"))\n",
        "\n",
        "condition = b**2 - 4*a*c\n",
        "\n",
        "if condition >= 0:\n",
        "  x1= (-b + condition**(1/2))/2*a\n",
        "  x2 = (-b - condition**(1/2))/2*a\n",
        "if condition<0:\n",
        "  print(\"[ERROR] The solution is imaginary\")\n",
        "else:\n",
        "  print(f\"The solution are {x1} and {x2}\")"
      ],
      "execution_count": null,
      "outputs": [
        {
          "output_type": "stream",
          "text": [
            "enter value of a:2\n",
            "enter value of b2\n",
            "enter vallue of c2\n",
            "[ERROR] The solution is imaginary\n"
          ],
          "name": "stdout"
        }
      ]
    },
    {
      "cell_type": "markdown",
      "metadata": {
        "id": "SFssq1xygNWS"
      },
      "source": [
        "① Create a program that organizes from largest to smallest three heights in cms entered by the user.\n"
      ]
    },
    {
      "cell_type": "code",
      "metadata": {
        "colab": {
          "base_uri": "https://localhost:8080/",
          "height": 287
        },
        "id": "Y0kMXROwgP6W",
        "outputId": "7566b16a-df3f-4c1c-e556-c464d0435cb5"
      },
      "source": [
        " a = int(input(\"Put your first hight\"))\n",
        " b = int(input(\"Put your second hight\"))\n",
        " c = int(input(\"Put your third hight\"))\n",
        "\n",
        " if a>b and b>c :\n",
        "   print(c,b,a)(\"is your hights in order\")\n",
        "else:\n",
        "  if b>a and a>c:\n",
        "    print(b,a,c)(\"is your hights in order\")\n",
        "  else:\n",
        "    if b>c and c>a:\n",
        "      print(b,c,a)(\"is your hights in order\")\n",
        "    else:\n",
        "      print(a,b,c)(\"are your hights in order\")\n",
        "  "
      ],
      "execution_count": null,
      "outputs": [
        {
          "output_type": "stream",
          "text": [
            "Put your first hight2\n",
            "Put your second hight2\n",
            "Put your third hight2\n",
            "2 2 2\n"
          ],
          "name": "stdout"
        },
        {
          "output_type": "error",
          "ename": "TypeError",
          "evalue": "ignored",
          "traceback": [
            "\u001b[0;31m---------------------------------------------------------------------------\u001b[0m",
            "\u001b[0;31mTypeError\u001b[0m                                 Traceback (most recent call last)",
            "\u001b[0;32m<ipython-input-16-600c74fe5af5>\u001b[0m in \u001b[0;36m<module>\u001b[0;34m()\u001b[0m\n\u001b[1;32m     12\u001b[0m      \u001b[0mprint\u001b[0m\u001b[0;34m(\u001b[0m\u001b[0mb\u001b[0m\u001b[0;34m,\u001b[0m\u001b[0mc\u001b[0m\u001b[0;34m,\u001b[0m\u001b[0ma\u001b[0m\u001b[0;34m)\u001b[0m\u001b[0;34m(\u001b[0m\u001b[0;34m\"is your hights in order\"\u001b[0m\u001b[0;34m)\u001b[0m\u001b[0;34m\u001b[0m\u001b[0;34m\u001b[0m\u001b[0m\n\u001b[1;32m     13\u001b[0m    \u001b[0;32melse\u001b[0m\u001b[0;34m:\u001b[0m\u001b[0;34m\u001b[0m\u001b[0;34m\u001b[0m\u001b[0m\n\u001b[0;32m---> 14\u001b[0;31m      \u001b[0mprint\u001b[0m\u001b[0;34m(\u001b[0m\u001b[0ma\u001b[0m\u001b[0;34m,\u001b[0m\u001b[0mb\u001b[0m\u001b[0;34m,\u001b[0m\u001b[0mc\u001b[0m\u001b[0;34m)\u001b[0m\u001b[0;34m(\u001b[0m\u001b[0;34m\"is your hights in order\"\u001b[0m\u001b[0;34m)\u001b[0m\u001b[0;34m\u001b[0m\u001b[0;34m\u001b[0m\u001b[0m\n\u001b[0m\u001b[1;32m     15\u001b[0m \u001b[0;34m\u001b[0m\u001b[0m\n",
            "\u001b[0;31mTypeError\u001b[0m: 'NoneType' object is not callable"
          ]
        }
      ]
    },
    {
      "cell_type": "markdown",
      "metadata": {
        "id": "D2NklEXrgQXK"
      },
      "source": [
        "② Create a program that calculates the tax for a salary entered by the user following the table below\n",
        "5% 0-10,000\n",
        "10% 10,001-50,000\n",
        "15% 50,001-100,000\n",
        "20% 100,001-\n",
        "\n",
        "\n",
        "\n",
        "*   5% 0-10,000\n",
        "*   10% 10,001-50,000\n",
        "\n",
        "*   15% 50,001-100,000\n",
        "\n",
        "*   20% 100,001-\n",
        "\n",
        "\n",
        "\n",
        "\n"
      ]
    },
    {
      "cell_type": "code",
      "metadata": {
        "colab": {
          "base_uri": "https://localhost:8080/"
        },
        "id": "xoEn1ygAlEZJ",
        "outputId": "ec7225e1-7190-403b-e898-9f880c6b0bf1"
      },
      "source": [
        "salary = int(input(\"Type your salary\"))\n",
        "calc = 1\n",
        "\n",
        "if salary >= 0 and salary<10001:\n",
        "  calc = salary*5/100\n",
        "  print(f\"Your salary is {salary}, so your tax rate is 5%, making your tax {calc}\")\n",
        "\n",
        "\n",
        "if salary > 10000 and salary < 50001 :\n",
        "     calc = salary*10/100\n",
        "     print(f\"Your salary is {salary}, so your tax rate is 10%, making your tax {calc}\")\n",
        "\n",
        "\n",
        "if salary > 50000 and salary < 100001 :\n",
        "       calc = salary*15/100\n",
        "       print(f\"Your salary is {salary}, so your tax rate is 15%, making your tax {calc}\")\n",
        "\n",
        "if salary > 100000:\n",
        "         calc = salary*5/100\n",
        "         print(f\"Your salary is {salary}, so your tax rate is 20%, making your tax {calc}\")\n",
        "\n",
        "if salary<0:\n",
        "      print(f\"Your salary {salary}, has an error\")\n",
        "\n",
        "\n",
        "\n"
      ],
      "execution_count": null,
      "outputs": [
        {
          "output_type": "stream",
          "text": [
            "Type your salary-9\n",
            "Your salary -9, has an error\n"
          ],
          "name": "stdout"
        }
      ]
    },
    {
      "cell_type": "markdown",
      "metadata": {
        "id": "B2a5wzO5r4-A"
      },
      "source": [
        "③　Write a program to sort alphabetically three names entered by the user. \n"
      ]
    },
    {
      "cell_type": "code",
      "metadata": {
        "id": "DORe0-95r6_c"
      },
      "source": [
        ""
      ],
      "execution_count": null,
      "outputs": []
    },
    {
      "cell_type": "markdown",
      "metadata": {
        "id": "6mGWtGfmr7eZ"
      },
      "source": [
        "④　Create a program that calculates the median for a series of numbers entered by the user. The program should ask the user \n"
      ]
    },
    {
      "cell_type": "code",
      "metadata": {
        "id": "3tM8S5zAsein"
      },
      "source": [
        ""
      ],
      "execution_count": null,
      "outputs": []
    }
  ]
}