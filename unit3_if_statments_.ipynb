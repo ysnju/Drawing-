{
  "nbformat": 4,
  "nbformat_minor": 0,
  "metadata": {
    "colab": {
      "name": "unit3 if statmeents.",
      "provenance": [],
      "authorship_tag": "ABX9TyMLgg63yL2PX9++zhVppkUa",
      "include_colab_link": true
    },
    "kernelspec": {
      "name": "python3",
      "display_name": "Python 3"
    },
    "language_info": {
      "name": "python"
    }
  },
  "cells": [
    {
      "cell_type": "markdown",
      "metadata": {
        "id": "view-in-github",
        "colab_type": "text"
      },
      "source": [
        "<a href=\"https://colab.research.google.com/github/ysnju/Unit-1/blob/main/unit3_if_statments_.ipynb\" target=\"_parent\"><img src=\"https://colab.research.google.com/assets/colab-badge.svg\" alt=\"Open In Colab\"/></a>"
      ]
    },
    {
      "cell_type": "markdown",
      "metadata": {
        "id": "awXxXAv5hVvF"
      },
      "source": [
        "solve the quadratic equation with values entered by the user\n",
        "$$x_{1,2} = \n"
      ]
    },
    {
      "cell_type": "code",
      "metadata": {
        "colab": {
          "base_uri": "https://localhost:8080/"
        },
        "id": "1rykAjevhS4o",
        "outputId": "ac9163d5-1468-4865-823b-28ca3fd2b64f"
      },
      "source": [
        "#solve the quadratic equation :This is a headder comment, which tells what the code is about\n",
        "a = int(input(\"enter value of a:\"))\n",
        "b = int(input(\"enter value of b\"))\n",
        "c = int(input(\"enter vallue of c\"))\n",
        "\n",
        "condition = b**2 - 4*a*c\n",
        "\n",
        "if condition >= 0:\n",
        "  x1= (-b + condition**(1/2))/2*a\n",
        "  x2 = (-b - condition**(1/2))/2*a\n",
        "if condition<0:\n",
        "  print(\"[ERROR] The solution is imaginary\")\n",
        "else:\n",
        "  print(f\"The solution are {x1} and {x2}\")"
      ],
      "execution_count": null,
      "outputs": [
        {
          "output_type": "stream",
          "text": [
            "enter value of a:2\n",
            "enter value of b2\n",
            "enter vallue of c2\n",
            "[ERROR] The solution is imaginary\n"
          ],
          "name": "stdout"
        }
      ]
    },
    {
      "cell_type": "markdown",
      "metadata": {
        "id": "SFssq1xygNWS"
      },
      "source": [
        "① Create a program that organizes from largest to smallest three heights in cms entered by the user.\n"
      ]
    },
    {
      "cell_type": "code",
      "metadata": {
        "colab": {
          "base_uri": "https://localhost:8080/"
        },
        "id": "Y0kMXROwgP6W",
        "outputId": "a3933a32-d2f1-43ed-c568-1754fcd1f6bc"
      },
      "source": [
        " a = int(input(\"Put your first hight\"))\n",
        " b = int(input(\"Put your second hight\"))\n",
        " c = int(input(\"Put your third hight\"))\n",
        "\n",
        " if a>b and b>c :\n",
        "   print(c,b,a)\n",
        "else:\n",
        "  if b>a and a>c:\n",
        "    print(b,a,c)\n",
        "  else:\n",
        "    if b>c and c>a:\n",
        "      print(b,c,a)\n",
        "    else:\n",
        "      print(a,b,c)\n",
        "  "
      ],
      "execution_count": 13,
      "outputs": [
        {
          "output_type": "stream",
          "text": [
            "Put your first hight2\n",
            "Put your second hight2\n",
            "Put your third hight2\n",
            "2 2 2\n"
          ],
          "name": "stdout"
        }
      ]
    },
    {
      "cell_type": "markdown",
      "metadata": {
        "id": "D2NklEXrgQXK"
      },
      "source": [
        "② Create a program that calculates the tax for a salary entered by the user following the table below\n",
        "5% 0-10,000\n",
        "10% 10,001-50,000\n",
        "15% 50,001-100,000\n",
        "20% 100,001-\n",
        "\n",
        "\n",
        "\n",
        "*   5% 0-10,000\n",
        "*   10% 10,001-50,000\n",
        "\n",
        "*   15% 50,001-100,000\n",
        "\n",
        "*   20% 100,001-\n",
        "\n",
        "\n",
        "\n",
        "\n"
      ]
    },
    {
      "cell_type": "code",
      "metadata": {
        "colab": {
          "base_uri": "https://localhost:8080/"
        },
        "id": "xoEn1ygAlEZJ",
        "outputId": "6e1659b7-1278-4c70-e2a0-83fd064a6255"
      },
      "source": [
        "salary = int(input(\"Type your salary\"))\n",
        "\n",
        "if salary == 0 or salary<10001:\n",
        "  print(f\"Your salary is {salary}, so your tax rate is 5%\")\n",
        "\n",
        "\n",
        "  if salary > 10000 and salary < 50001 :\n",
        "    print(f\"Your salary is {salary}, so your tax rate is 10%\")\n",
        "\n",
        "\n",
        "    if salary > 50000 and salary < 100001 :\n",
        "      print(f\"Your salary is {salary}, so your tax rate is 15%\")\n",
        "\n",
        "      if salary > 100000:\n",
        "        print(f\"Your salary is {salary}, so your tax rate is 20%\")\n",
        "      else:\n",
        "        print(f\"Your salary {salary}, has an error\")\n",
        "\n",
        "\n",
        "\n"
      ],
      "execution_count": null,
      "outputs": [
        {
          "output_type": "stream",
          "text": [
            "Type your salary1390580975\n"
          ],
          "name": "stdout"
        }
      ]
    },
    {
      "cell_type": "markdown",
      "metadata": {
        "id": "B2a5wzO5r4-A"
      },
      "source": [
        "③　Write a program to sort alphabetically three names entered by the user. \n"
      ]
    },
    {
      "cell_type": "code",
      "metadata": {
        "id": "DORe0-95r6_c"
      },
      "source": [
        ""
      ],
      "execution_count": null,
      "outputs": []
    },
    {
      "cell_type": "markdown",
      "metadata": {
        "id": "6mGWtGfmr7eZ"
      },
      "source": [
        "④　Create a program that calculates the median for a series of numbers entered by the user. The program should ask the user \n"
      ]
    }
  ]
}